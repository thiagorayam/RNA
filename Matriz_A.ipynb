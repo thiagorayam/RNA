{
  "nbformat": 4,
  "nbformat_minor": 0,
  "metadata": {
    "colab": {
      "name": "Matriz A.ipynb",
      "provenance": [],
      "authorship_tag": "ABX9TyMMzAI/gU3ksSUdJnKTD7bd",
      "include_colab_link": true
    },
    "kernelspec": {
      "name": "python3",
      "display_name": "Python 3"
    }
  },
  "cells": [
    {
      "cell_type": "markdown",
      "metadata": {
        "id": "view-in-github",
        "colab_type": "text"
      },
      "source": [
        "<a href=\"https://colab.research.google.com/github/thiagorayam/RNA/blob/main/Matriz_A.ipynb\" target=\"_parent\"><img src=\"https://colab.research.google.com/assets/colab-badge.svg\" alt=\"Open In Colab\"/></a>"
      ]
    },
    {
      "cell_type": "code",
      "metadata": {
        "id": "MT7cy0SCDSD6"
      },
      "source": [
        "import numpy as np\n",
        "import matplotlib.pyplot as plt\n",
        "\n",
        "N=20\n",
        "Ntrain=15\n",
        "dim=5\n",
        "\n",
        "A=np.zeros((N, dim, dim))\n",
        "label=np.zeros(N)\n",
        "ref_arquivo = open(\"/content/sample_data/Matriz A.txt\",\"r\")\n",
        "for j in range (N):\n",
        "    linha = ref_arquivo.readline()\n",
        "    for i in range(dim):\n",
        "        valores=linha.split()\n",
        "        A[j,i]=np.array(valores)\n",
        "        linha = ref_arquivo.readline()\n",
        "    label[j]=np.array(linha.split())\n",
        "    linha = ref_arquivo.readline()\n",
        "\n",
        "indices = np.arange(A.shape[0])\n",
        "np.random.shuffle(indices)\n",
        "A = A[indices]\n",
        "label = label[indices]\n",
        "\n",
        "X=A.reshape(N,dim*dim)\n",
        "y=label\n",
        "Xtrain=X[0:Ntrain]\n",
        "ytrain=label[0:Ntrain]\n",
        "\n",
        "ref_arquivo.close()"
      ],
      "execution_count": null,
      "outputs": []
    },
    {
      "cell_type": "code",
      "metadata": {
        "id": "gefkhDS4-CSO"
      },
      "source": [
        "class Adaline(object):\n",
        "    def __init__(self, eta = 0.01, epoch = 15, epsilon=0.0001):\n",
        "        # parâmetros de taxa de aprendizagem, número máximo de épocas e precisão requerida;\n",
        "        self.eta = eta\n",
        "        self.epoch = epoch\n",
        "\n",
        "    def fit(self, X, y):\n",
        "\n",
        "        # inicialização dos pesos de forma aleatória. Com valores entre -1 e 1.\n",
        "        np.random.seed(0)\n",
        "        self.weight = np.random.uniform(-1, 1, X.shape[1] + 1) \n",
        "        E=0 \n",
        "\n",
        "        for _ in range(self.epoch):\n",
        "            \n",
        "            output = np.dot(X, self.weight[1:]) - self.weight[0]\n",
        "            error = y - output\n",
        "            \n",
        "            self.weight[0] += self.eta * sum(error)\n",
        "            self.weight[1:] += self.eta * X.T.dot(error)\n",
        "\n",
        "            if (abs(E - 1/2 * sum((error**2)))<0.1): \n",
        "               print(_)\n",
        "               break\n",
        "\n",
        "            E = 1/2 * sum((error**2))\n",
        "\n",
        "        return self\n",
        "\n",
        "    def predict(self, X):\n",
        "        return np.where((np.dot(X, self.weight[1:]) - self.weight[0]) >= 0.0, 1, -1)"
      ],
      "execution_count": null,
      "outputs": []
    },
    {
      "cell_type": "code",
      "metadata": {
        "id": "Qw-rIfIHhh6v",
        "colab": {
          "base_uri": "https://localhost:8080/",
          "height": 34
        },
        "outputId": "acf45525-f031-47e0-b22b-c718b5b12ee8"
      },
      "source": [
        "clf = Adaline()\n",
        "clf.fit(Xtrain, ytrain)\n",
        "ypred=clf.predict(X)"
      ],
      "execution_count": null,
      "outputs": [
        {
          "output_type": "stream",
          "text": [
            "13\n"
          ],
          "name": "stdout"
        }
      ]
    },
    {
      "cell_type": "code",
      "metadata": {
        "id": "rtfHSMEtISqo",
        "colab": {
          "base_uri": "https://localhost:8080/",
          "height": 1000
        },
        "outputId": "00c5bc8b-25a8-486b-cf53-1db42310541f"
      },
      "source": [
        "from matplotlib.colors import ListedColormap\n",
        "for j in range (N):\n",
        "      cm_bright = ListedColormap(['#FF0000', '#0000FF'])\n",
        "      plt.figure(figsize=(4,4))\n",
        "      if j<Ntrain: im=plt.imshow(A[j],aspect='auto')\n",
        "      else: im=plt.imshow(A[j],cmap=cm_bright,aspect='auto')\n",
        "      plt.axis(\"off\")\n",
        "      if ypred[j] > 0: plt.title( 'A' )\n",
        "      else: plt.title( 'A invertido' )\n",
        "      plt.show()"
      ],
      "execution_count": null,
      "outputs": [
        {
          "output_type": "display_data",
          "data": {
            "image/png": "[encoded data removed]",
            "text/plain": [
              "<Figure size 288x288 with 1 Axes>"
            ]
          },
          "metadata": {
            "tags": [],
            "needs_background": "light"
          }
        },
        {
          "output_type": "display_data",
          "data": {
            "image/png": "[encoded data removed]",
            "text/plain": [
              "<Figure size 288x288 with 1 Axes>"
            ]
          },
          "metadata": {
            "tags": [],
            "needs_background": "light"
          }
        },
        {
          "output_type": "display_data",
          "data": {
            "image/png": "[encoded data removed]",
            "text/plain": [
              "<Figure size 288x288 with 1 Axes>"
            ]
          },
          "metadata": {
            "tags": [],
            "needs_background": "light"
          }
        },
        {
          "output_type": "display_data",
          "data": {
            "image/png": "[encoded data removed]",
            "text/plain": [
              "<Figure size 288x288 with 1 Axes>"
            ]
          },
          "metadata": {
            "tags": [],
            "needs_background": "light"
          }
        },
        {
          "output_type": "display_data",
          "data": {
            "image/png": "[encoded data removed]",
            "text/plain": [
              "<Figure size 288x288 with 1 Axes>"
            ]
          },
          "metadata": {
            "tags": [],
            "needs_background": "light"
          }
        },
        {
          "output_type": "display_data",
          "data": {
            "image/png": "[encoded data removed]",
            "text/plain": [
              "<Figure size 288x288 with 1 Axes>"
            ]
          },
          "metadata": {
            "tags": [],
            "needs_background": "light"
          }
        },
        {
          "output_type": "display_data",
          "data": {
            "image/png": "[encoded data removed]",
            "text/plain": [
              "<Figure size 288x288 with 1 Axes>"
            ]
          },
          "metadata": {
            "tags": [],
            "needs_background": "light"
          }
        },
        {
          "output_type": "display_data",
          "data": {
            "image/png": "[encoded data removed]",
            "text/plain": [
              "<Figure size 288x288 with 1 Axes>"
            ]
          },
          "metadata": {
            "tags": [],
            "needs_background": "light"
          }
        },
        {
          "output_type": "display_data",
          "data": {
            "image/png": "[encoded data removed]",
            "text/plain": [
              "<Figure size 288x288 with 1 Axes>"
            ]
          },
          "metadata": {
            "tags": [],
            "needs_background": "light"
          }
        },
        {
          "output_type": "display_data",
          "data": {
            "image/png": "[encoded data removed]",
            "text/plain": [
              "<Figure size 288x288 with 1 Axes>"
            ]
          },
          "metadata": {
            "tags": [],
            "needs_background": "light"
          }
        },
        {
          "output_type": "display_data",
          "data": {
            "image/png": "[encoded data removed]",
            "text/plain": [
              "<Figure size 288x288 with 1 Axes>"
            ]
          },
          "metadata": {
            "tags": [],
            "needs_background": "light"
          }
        },
        {
          "output_type": "display_data",
          "data": {
            "image/png": "[encoded data removed]",
            "text/plain": [
              "<Figure size 288x288 with 1 Axes>"
            ]
          },
          "metadata": {
            "tags": [],
            "needs_background": "light"
          }
        },
        {
          "output_type": "display_data",
          "data": {
            "image/png": "[encoded data removed]",
            "text/plain": [
              "<Figure size 288x288 with 1 Axes>"
            ]
          },
          "metadata": {
            "tags": [],
            "needs_background": "light"
          }
        },
        {
          "output_type": "display_data",
          "data": {
            "image/png": "[encoded data removed]",
            "text/plain": [
              "<Figure size 288x288 with 1 Axes>"
            ]
          },
          "metadata": {
            "tags": [],
            "needs_background": "light"
          }
        },
        {
          "output_type": "display_data",
          "data": {
            "image/png": "[encoded data removed]",
            "text/plain": [
              "<Figure size 288x288 with 1 Axes>"
            ]
          },
          "metadata": {
            "tags": [],
            "needs_background": "light"
          }
        },
        {
          "output_type": "display_data",
          "data": {
            "image/png": "[encoded data removed]",
            "text/plain": [
              "<Figure size 288x288 with 1 Axes>"
            ]
          },
          "metadata": {
            "tags": [],
            "needs_background": "light"
          }
        },
        {
          "output_type": "display_data",
          "data": {
            "image/png": "[encoded data removed]",
            "text/plain": [
              "<Figure size 288x288 with 1 Axes>"
            ]
          },
          "metadata": {
            "tags": [],
            "needs_background": "light"
          }
        },
        {
          "output_type": "display_data",
          "data": {
            "image/png": "[encoded data removed]",
            "text/plain": [
              "<Figure size 288x288 with 1 Axes>"
            ]
          },
          "metadata": {
            "tags": [],
            "needs_background": "light"
          }
        },
        {
          "output_type": "display_data",
          "data": {
            "image/png": "[encoded data removed]",
            "text/plain": [
              "<Figure size 288x288 with 1 Axes>"
            ]
          },
          "metadata": {
            "tags": [],
            "needs_background": "light"
          }
        },
        {
          "output_type": "display_data",
          "data": {
            "image/png": "[encoded data removed]",
            "text/plain": [
              "<Figure size 288x288 with 1 Axes>"
            ]
          },
          "metadata": {
            "tags": [],
            "needs_background": "light"
          }
        }
      ]
    }
  ]
}